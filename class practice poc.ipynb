{
 "cells": [
  {
   "cell_type": "markdown",
   "metadata": {},
   "source": [
    "#Create an application which manages an inventory of products. \n",
    "Create a product class which has a price, id, and quantity on hand. \n",
    "Then create an *inventory* class which keeps track of various products and can sum up the inventory value."
   ]
  },
  {
   "cell_type": "code",
   "execution_count": null,
   "metadata": {},
   "outputs": [],
   "source": [
    "import pandas as pd"
   ]
  },
  {
   "cell_type": "code",
   "execution_count": null,
   "metadata": {},
   "outputs": [],
   "source": [
    "class Product:\n",
    "    def __init__(self):\n",
    "        self.price= None\n",
    "        self.id   = None\n",
    "        self.qty  = None\n",
    "        self.data =pd.DataFrame(([]),columns=['ID','Cost','Quantity'])\n",
    "\n",
    "class Inventory( Product):\n",
    "    def value(self): #Function \n",
    "        \n",
    "        while True:\n",
    "            option =1\n",
    "            if len(self.data):\n",
    "                print(\"1)Would u like to add even more products?\\n2)Get the inventory value\\n3)Exit\")\n",
    "                option =int(input())\n",
    "            if option == 1:\n",
    "                print(\"Please provide the product details,\")\n",
    "                self.cost = float(input(\"Cost of the product :\"))\n",
    "                self.id   = int(input(\"Id of the product :\"))\n",
    "                self.qty  = int(input(\" Quantity of the :\"))\n",
    "                \n",
    "                print(\"-----------------------------------------\")\n",
    "                      \n",
    "                self.data = self.data.append({'ID':self.id,'Cost':self.cost,'Quantity':self.qty},ignore_index=True)\n",
    "                \n",
    "                print(\"-----------------------------------------\")\n",
    "  \n",
    "                print(self.data)\n",
    "            elif option==2:\n",
    "                      \n",
    "                print(\"The total value of inventory is : \",((self.data['Cost'])*(self.data['Quantity'])).sum())\n",
    "            else:\n",
    "                print(\"Exiting....\")\n",
    "                exit()\n",
    "inv = Inventory()\n",
    "inv.value()"
   ]
  },
  {
   "cell_type": "code",
   "execution_count": null,
   "metadata": {},
   "outputs": [],
   "source": [
    "#run the above code and check about inventory details"
   ]
  }
 ],
 "metadata": {
  "kernelspec": {
   "display_name": "Python 3",
   "language": "python",
   "name": "python3"
  },
  "language_info": {
   "codemirror_mode": {
    "name": "ipython",
    "version": 3
   },
   "file_extension": ".py",
   "mimetype": "text/x-python",
   "name": "python",
   "nbconvert_exporter": "python",
   "pygments_lexer": "ipython3",
   "version": "3.7.4"
  }
 },
 "nbformat": 4,
 "nbformat_minor": 2
}
